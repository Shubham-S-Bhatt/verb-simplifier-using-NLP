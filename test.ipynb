{
 "cells": [
  {
   "cell_type": "code",
   "execution_count": 1,
   "metadata": {},
   "outputs": [],
   "source": [
    "import re"
   ]
  },
  {
   "cell_type": "code",
   "execution_count": 3,
   "metadata": {},
   "outputs": [],
   "source": [
    "def conjugate_stem_verb(verb, condition_verb):\n",
    "    if condition_verb.endswith('ies') and verb.endswith(('ay', 'ey', 'iy', 'oy', 'uy') ):  # Handles consonant + y\n",
    "        return verb[:-1] + 'ies'\n",
    "    elif condition_verb.endswith('es') and verb.endswith(('sh', 'ch', 's', 'z', 'x')):  # Handles sibilant sounds\n",
    "        return verb + 'es'\n",
    "    elif condition_verb.endswith('e'):\n",
    "        return verb\n",
    "    elif condition_verb.endswith('ing') and verb.endswith('ee'):\n",
    "        return verb + 'ing'\n",
    "    elif condition_verb.endswith('ing') and verb.endswith('ie'):\n",
    "        return verb[:-2] + 'ying'\n",
    "    elif condition_verb.endswith('ing') and verb.endswith(('w', 'x', 'y')):\n",
    "        return verb + 'ing'\n",
    "    elif condition_verb.endswith('ing') and verb.endswith('ic'):\n",
    "        return verb + 'king'\n",
    "    elif condition_verb.endswith('ing') and len(re.findall(r'[aeiou]', verb)) == 2:\n",
    "        if verb.endswith(('a', 'e', 'i', 'o', 'u')):\n",
    "            return verb + 'ing'\n",
    "        elif verb[-1] not in 'aeiou':\n",
    "            return verb + verb[-1] + 'ing'\n",
    "    elif condition_verb.endswith('ing') and len(re.findall(r'[aeiou]', verb)) == 1 and len(verb) >= 3:\n",
    "        if re.match(r'[^aeiou][aeiou][^aeiou]$', verb):\n",
    "            return verb + verb[-1] + 'ing'\n",
    "    elif condition_verb.endswith('ing') and verb.endswith(('a', 'e', 'i', 'o', 'u')):\n",
    "        return verb[:-2] + 'ying'\n",
    "    elif condition_verb.endswith('ing') and verb.endswith('e'):\n",
    "        return verb[:-1] + 'ing'\n",
    "    else:\n",
    "        return verb + 's'  # Default rule for third-person singular"
   ]
  },
  {
   "cell_type": "code",
   "execution_count": 6,
   "metadata": {},
   "outputs": [
    {
     "data": {
      "text/plain": [
       "'putting'"
      ]
     },
     "execution_count": 6,
     "metadata": {},
     "output_type": "execute_result"
    }
   ],
   "source": [
    "conjugate_stem_verb(\"put\", 'introducing')"
   ]
  },
  {
   "cell_type": "code",
   "execution_count": null,
   "metadata": {},
   "outputs": [],
   "source": []
  }
 ],
 "metadata": {
  "kernelspec": {
   "display_name": "tf",
   "language": "python",
   "name": "python3"
  },
  "language_info": {
   "codemirror_mode": {
    "name": "ipython",
    "version": 3
   },
   "file_extension": ".py",
   "mimetype": "text/x-python",
   "name": "python",
   "nbconvert_exporter": "python",
   "pygments_lexer": "ipython3",
   "version": "3.9.19"
  }
 },
 "nbformat": 4,
 "nbformat_minor": 2
}
